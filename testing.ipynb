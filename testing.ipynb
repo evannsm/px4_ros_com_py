{
 "cells": [
  {
   "cell_type": "code",
   "execution_count": 3,
   "id": "96b4f455",
   "metadata": {},
   "outputs": [],
   "source": [
    "from scipy.spatial.transform import Rotation as R\n",
    "import numpy as np"
   ]
  },
  {
   "cell_type": "code",
   "execution_count": 4,
   "id": "449073b2",
   "metadata": {},
   "outputs": [],
   "source": [
    "quat = [0.7071068, 0, 0, 0.7071068]  # Example quaternion (w, x, y, z)"
   ]
  },
  {
   "cell_type": "code",
   "execution_count": 5,
   "id": "d7e34a9b",
   "metadata": {},
   "outputs": [
    {
     "data": {
      "text/plain": [
       "array([0.        , 0.        , 1.57079633])"
      ]
     },
     "execution_count": 5,
     "metadata": {},
     "output_type": "execute_result"
    }
   ],
   "source": [
    "R.from_quat(quat, scalar_first=True).as_euler('xyz', degrees=False)"
   ]
  },
  {
   "cell_type": "code",
   "execution_count": null,
   "id": "1e3c1149",
   "metadata": {},
   "outputs": [],
   "source": []
  }
 ],
 "metadata": {
  "kernelspec": {
   "display_name": "ros2jazzy_px4_immrax",
   "language": "python",
   "name": "python3"
  },
  "language_info": {
   "codemirror_mode": {
    "name": "ipython",
    "version": 3
   },
   "file_extension": ".py",
   "mimetype": "text/x-python",
   "name": "python",
   "nbconvert_exporter": "python",
   "pygments_lexer": "ipython3",
   "version": "3.12.11"
  }
 },
 "nbformat": 4,
 "nbformat_minor": 5
}
