{
 "cells": [
  {
   "cell_type": "code",
   "execution_count": 3,
   "id": "96b4f455",
   "metadata": {},
   "outputs": [],
   "source": [
    "from scipy.spatial.transform import Rotation as R\n",
    "import numpy as np"
   ]
  },
  {
   "cell_type": "code",
   "execution_count": 4,
   "id": "449073b2",
   "metadata": {},
   "outputs": [],
   "source": [
    "quat = [0.7071068, 0, 0, 0.7071068]  # Example quaternion (w, x, y, z)"
   ]
  },
  {
   "cell_type": "code",
   "execution_count": 5,
   "id": "d7e34a9b",
   "metadata": {},
   "outputs": [
    {
     "data": {
      "text/plain": [
       "array([0.        , 0.        , 1.57079633])"
      ]
     },
     "execution_count": 5,
     "metadata": {},
     "output_type": "execute_result"
    }
   ],
   "source": [
    "R.from_quat(quat, scalar_first=True).as_euler('xyz', degrees=False)"
   ]
  },
  {
   "cell_type": "code",
   "execution_count": 10,
   "id": "1e3c1149",
   "metadata": {},
   "outputs": [],
   "source": [
    "import jax\n",
    "import time"
   ]
  },
  {
   "cell_type": "code",
   "execution_count": 19,
   "id": "df7ff4bb",
   "metadata": {},
   "outputs": [],
   "source": [
    "def quadratic(x):\n",
    "    return x**2 + 4*x\n",
    "\n",
    "t0 = time.time()\n",
    "jax.jit(quadratic)(3.0)\n",
    "treg = time.time() - t0"
   ]
  },
  {
   "cell_type": "code",
   "execution_count": 20,
   "id": "9315e35d",
   "metadata": {},
   "outputs": [
    {
     "name": "stdout",
     "output_type": "stream",
     "text": [
      "21.0\n"
     ]
    }
   ],
   "source": [
    "t0  = time.time()\n",
    "print(quadratic(3.0))\n",
    "tjit = time.time() - t0\n"
   ]
  },
  {
   "cell_type": "code",
   "execution_count": 21,
   "id": "c8a5ec7b",
   "metadata": {},
   "outputs": [
    {
     "data": {
      "text/plain": [
       "97.78976143604862"
      ]
     },
     "execution_count": 21,
     "metadata": {},
     "output_type": "execute_result"
    }
   ],
   "source": [
    "# pct diff\n",
    "(treg - tjit) / treg * 100.0"
   ]
  },
  {
   "cell_type": "code",
   "execution_count": 26,
   "id": "ee6e4c64",
   "metadata": {},
   "outputs": [],
   "source": [
    "derivative_quad = jax.jacrev(quadratic)\n",
    "quad_dd = jax.jacrev(jax.jacrev(quadratic))\n",
    "\n"
   ]
  },
  {
   "cell_type": "code",
   "execution_count": 28,
   "id": "bda77f8e",
   "metadata": {},
   "outputs": [
    {
     "data": {
      "text/plain": [
       "Array(2., dtype=float32, weak_type=True)"
      ]
     },
     "execution_count": 28,
     "metadata": {},
     "output_type": "execute_result"
    }
   ],
   "source": [
    "quad_dd(6.0)"
   ]
  },
  {
   "cell_type": "code",
   "execution_count": 1,
   "id": "7f2b108f",
   "metadata": {},
   "outputs": [],
   "source": [
    "import numpy"
   ]
  },
  {
   "cell_type": "code",
   "execution_count": 3,
   "id": "1f93e9e2",
   "metadata": {},
   "outputs": [],
   "source": [
    "x = 5"
   ]
  },
  {
   "cell_type": "code",
   "execution_count": 4,
   "id": "af97cc51",
   "metadata": {},
   "outputs": [],
   "source": [
    "x = 'hello'"
   ]
  },
  {
   "cell_type": "code",
   "execution_count": 5,
   "id": "d70e1d52",
   "metadata": {},
   "outputs": [
    {
     "ename": "ModuleNotFoundError",
     "evalue": "No module named 'px4_msgs'",
     "output_type": "error",
     "traceback": [
      "\u001b[31m---------------------------------------------------------------------------\u001b[39m",
      "\u001b[31mModuleNotFoundError\u001b[39m                       Traceback (most recent call last)",
      "\u001b[36mCell\u001b[39m\u001b[36m \u001b[39m\u001b[32mIn[5]\u001b[39m\u001b[32m, line 1\u001b[39m\n\u001b[32m----> \u001b[39m\u001b[32m1\u001b[39m \u001b[38;5;28;01mfrom\u001b[39;00m\u001b[38;5;250m \u001b[39m\u001b[34;01mpx4_msgs\u001b[39;00m\u001b[34;01m.\u001b[39;00m\u001b[34;01mmsg\u001b[39;00m\u001b[38;5;250m \u001b[39m\u001b[38;5;28;01mimport\u001b[39;00m Logging\n",
      "\u001b[31mModuleNotFoundError\u001b[39m: No module named 'px4_msgs'"
     ]
    }
   ],
   "source": [
    "from px4_msgs.msg import Logging"
   ]
  },
  {
   "cell_type": "code",
   "execution_count": null,
   "id": "fb4cae02",
   "metadata": {},
   "outputs": [],
   "source": []
  }
 ],
 "metadata": {
  "kernelspec": {
   "display_name": "ros2jazzy_px4_immrax",
   "language": "python",
   "name": "python3"
  },
  "language_info": {
   "codemirror_mode": {
    "name": "ipython",
    "version": 3
   },
   "file_extension": ".py",
   "mimetype": "text/x-python",
   "name": "python",
   "nbconvert_exporter": "python",
   "pygments_lexer": "ipython3",
   "version": "3.12.11"
  }
 },
 "nbformat": 4,
 "nbformat_minor": 5
}
